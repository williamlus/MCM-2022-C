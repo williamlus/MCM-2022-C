{
 "cells": [
  {
   "cell_type": "code",
   "execution_count": 91,
   "id": "e39e3ac9",
   "metadata": {},
   "outputs": [],
   "source": [
    "import csv\n",
    "\n",
    "csvFile = open(\"BCHAIN-MKPRU.csv\", \"r\")\n",
    "reader = csv.reader(csvFile)\n",
    "date={}\n",
    "bitcoin = {}\n",
    "i=0\n",
    "for item in reader:\n",
    "    if reader.line_num == 1:\n",
    "        continue\n",
    "    bitcoin[i] = float(item[1])\n",
    "    date[i]=item[0]\n",
    "    i=i+1\n",
    "\n",
    "csvFile.close()\n",
    "\n",
    "csvFile = open(\"LBMA-GOLD.csv\", \"r\")\n",
    "reader = csv.reader(csvFile)\n",
    "j=0\n",
    "gold = {}\n",
    "for item in reader:\n",
    "    if reader.line_num == 1:\n",
    "        continue\n",
    "    while(item[0]!=date[j]):\n",
    "        gold[j] = 0\n",
    "        j=j+1\n",
    "    if(item[1]==''): gold[j]=0\n",
    "    else: gold[j]=float(item[1])\n",
    "    j=j+1\n",
    "\n",
    "csvFile.close()\n",
    "\n",
    "#print(gold)\n",
    "#print(bitcoin)\n"
   ]
  },
  {
   "cell_type": "code",
   "execution_count": 92,
   "id": "66b388f0",
   "metadata": {},
   "outputs": [],
   "source": [
    "def buy(C, G, B, date, kind, amount, allin=False):\n",
    "    trade=0\n",
    "    price=0\n",
    "    a=0\n",
    "    if(kind=='gold'):\n",
    "        if(gold[date]==0): return 0\n",
    "        a=ag\n",
    "        price=gold[date]\n",
    "        trade=amount*gold[date]*(1+a)\n",
    "    if(kind=='bitcoin'):\n",
    "        a=ab\n",
    "        price=bitcoin[date]\n",
    "        trade=amount*bitcoin[date]*(1+a)\n",
    "    if(C<trade or allin==True):\n",
    "        amount=C/(price*(1+a))\n",
    "        C=0\n",
    "        if(kind=='gold'): G=G+amount\n",
    "        if(kind=='bitcoin'): B=B+amount\n",
    "    else:\n",
    "        C=C-trade\n",
    "        if(kind=='gold'): G=G+amount\n",
    "        if(kind=='bitcoin'): B=B+amount\n",
    "    return C, G, B, amount\n",
    "\n",
    "def sell(C, G, B, date, kind, amount, allin=False):\n",
    "    price=0\n",
    "    a=0\n",
    "    if(kind=='gold'):\n",
    "        if(gold[date]==0): return C, G, B, 0\n",
    "        a=ag\n",
    "        if(amount>G or allin==True): amount=G\n",
    "        G=G-amount\n",
    "        price=amount*gold[date]\n",
    "    if(kind=='bitcoin'):\n",
    "        a=ab\n",
    "        if(amount>B or allin==True): amount=B\n",
    "        B=B-amount\n",
    "        price=amount*bitcoin[date]\n",
    "    trade=price-price*a\n",
    "    C=C+trade\n",
    "    return C, G, B, amount\n",
    "\n",
    "def average(start, kind, days, decay_rate=0.95):\n",
    "    if(kind=='gold'):\n",
    "        price=0\n",
    "        count=0\n",
    "\n",
    "        weight_sum=0\n",
    "        \n",
    "        now=start\n",
    "        while(days>0):\n",
    "            if(now<0):\n",
    "                break\n",
    "            if(gold[now]==0):\n",
    "                days=days-1\n",
    "                now=now-1\n",
    "            else:\n",
    "                # price=price+gold[now]\n",
    "                \n",
    "                factor=decay_rate**count\n",
    "                price=price+gold[now]*factor\n",
    "                weight_sum+=factor\n",
    "                \n",
    "                count=count+1\n",
    "                now=now-1\n",
    "                days=days-1\n",
    "        if(count==0): return 0\n",
    "        # return (price/count)\n",
    "        return (price/weight_sum)\n",
    "    if(kind=='bitcoin'):\n",
    "        price=0\n",
    "        count=0\n",
    "\n",
    "        weight_sum=0\n",
    "\n",
    "        now=start\n",
    "        while(days>0):\n",
    "            if(now<0):\n",
    "                break\n",
    "            # price=price+bitcoin[now]\n",
    "\n",
    "            factor=decay_rate**count\n",
    "            price=price+bitcoin[now]*factor\n",
    "            weight_sum+=factor\n",
    "\n",
    "            count=count+1\n",
    "            now=now-1\n",
    "            days=days-1\n",
    "        if(count==0): return 0\n",
    "        # return (price/count)\n",
    "        return (price/weight_sum)\n",
    "    \n",
    "def rate(start, kind, P, L, decay_rate=0.95):\n",
    "    priceP=average(start, kind, P, decay_rate)\n",
    "    priceL=average(start, kind, L, decay_rate)\n",
    "    if(priceL==0): return 0\n",
    "    return (priceL-priceP)/priceP"
   ]
  },
  {
   "cell_type": "code",
   "execution_count": 93,
   "id": "cddaddb6",
   "metadata": {},
   "outputs": [],
   "source": [
    "def find_LP(C,B,G,i_th_day,old_L,old_P,mode,Lrange=(10,30),Prange=(10,90)):\n",
    "    def get_latest_price(type,day):\n",
    "        dic=None\n",
    "        if type=='gold': dic=gold\n",
    "        elif type=='bitcoin': dic=bitcoin\n",
    "        while(dic[day]==0): day-=1\n",
    "        return dic[day]\n",
    "    ag=0.01\n",
    "    ab=0.02\n",
    "    Lnum=range(*Lrange)\n",
    "    Pnum=range(*Prange)\n",
    "    cf,lf,pf=0,0,0\n",
    "    for l in Lnum:\n",
    "        for p in Pnum:\n",
    "            if(l>=p): continue\n",
    "            C_t,G_t,B_t=result(C=C, B=B, G=G, Days=i_th_day-1, ag=ag, ab=ab, L=l, P=p,\n",
    "                        sellGold=0, buyGold=0, sellbitcoin=0, buybitcoin=0, decay_rate=0.95)\n",
    "            c1=C_t + G_t*get_latest_price('gold',i_th_day-1) + B_t*get_latest_price('bitcoin',i_th_day-1)\n",
    "            if(c1>cf):\n",
    "                cf=c1\n",
    "                pf=p\n",
    "                lf=l\n",
    "    # new L, P will average with old L,P\n",
    "    if mode == 1:\n",
    "        pf = round((pf+old_P)/2)\n",
    "        lf = round((lf+old_L)/2)\n",
    "    print(pf,lf)\n",
    "    return lf, pf"
   ]
  },
  {
   "cell_type": "code",
   "execution_count": 94,
   "id": "b34ed327",
   "metadata": {},
   "outputs": [],
   "source": [
    "def result(C, B, G, Days, ag, ab, L, P, sellGold=0, buyGold=0, sellbitcoin=0, buybitcoin=0, decay_rate=0.95):\n",
    "    for i in range(Days):\n",
    "        if(i<P): continue\n",
    "        rateGold=rate(i, 'gold', P, L,decay_rate)\n",
    "        rateBitcoin=rate(i, 'bitcoin', P, L,decay_rate)\n",
    "        if(gold[i]!=0):\n",
    "            if(rateGold>0 and rateBitcoin<=0):\n",
    "                C, G, B, amount=sell(C, G, B, i, 'bitcoin', amount=0, allin=True)\n",
    "                C, G, B, amount=buy(C, G, B, i, 'gold', amount=0, allin=True)\n",
    "            if(rateGold<=0 and rateBitcoin>0):\n",
    "                C, G, B, amount=sell(C, G, B, i, 'gold', amount=0, allin=True)\n",
    "                C, G, B, amount=buy(C, G, B, i, 'bitcoin', amount=0, allin=True)\n",
    "            if(rateGold>0 and rateBitcoin>0):\n",
    "                total=rateGold+rateBitcoin\n",
    "                aGold=rateGold/total\n",
    "                aBitcoin=rateBitcoin/total\n",
    "                Cgold=aGold*C\n",
    "                Cbitcoin=aBitcoin*C\n",
    "                C, G, B, amount=buy(Cgold, G, B, i, 'gold', amount=0, allin=True)\n",
    "                C, G, B, amount=buy(Cbitcoin, G, B, i, 'bitcoin', amount=0, allin=True)\n",
    "            if(rateGold<=0 and rateBitcoin<=0):\n",
    "                C, G, B, amount=sell(C, G, B, i, 'bitcoin', amount=0, allin=True)\n",
    "                C, G, B, amount=sell(C, G, B, i, 'gold', amount=0, allin=True)\n",
    "        else:\n",
    "            if(rateBitcoin>0):\n",
    "                C, G, B, amount=buy(C, G, B, i, 'bitcoin', amount=0, allin=True)\n",
    "            if(rateBitcoin<=0):\n",
    "                C, G, B, amount=sell(C, G, B, i, 'bitcoin', amount=0, allin=True)\n",
    "    C, G, B, amount=sell(C, G, B, Days-1, 'gold', amount=0, allin=True)\n",
    "    C, G, B, amount=sell(C, G, B, Days-1, 'bitcoin', amount=0, allin=True)\n",
    "    return C,G,B"
   ]
  },
  {
   "cell_type": "code",
   "execution_count": 95,
   "id": "c0a593c6",
   "metadata": {},
   "outputs": [],
   "source": [
    "from tqdm import tqdm\n",
    "def final_result(C, B, G, Days, ag, ab, sellGold=0, buyGold=0, sellbitcoin=0, buybitcoin=0, decay_rate=0.95):\n",
    "    L,P = 50,100\n",
    "    P0=P\n",
    "    for i in tqdm(range(Days)):\n",
    "        if(i<P0): continue\n",
    "        if(i%(150)==0):\n",
    "            dL=int(5+25**(1-i/Days))\n",
    "            dP=int(5+50**(1-i/Days))\n",
    "            print('dL',dL,'dP',dP)\n",
    "            L,P = find_LP(C,B,G,i,L,P,2,(L-dL,L+dL),(P-dP,P+dP))\n",
    "        rateGold=rate(i, 'gold', P, L,decay_rate)\n",
    "        rateBitcoin=rate(i, 'bitcoin', P, L,decay_rate)\n",
    "        if(gold[i]!=0):\n",
    "            if(rateGold>0 and rateBitcoin<=0):\n",
    "                C, G, B, amount=sell(C, G, B, i, 'bitcoin', amount=0, allin=True)\n",
    "                C, G, B, amount=buy(C, G, B, i, 'gold', amount=0, allin=True)\n",
    "            if(rateGold<=0 and rateBitcoin>0):\n",
    "                C, G, B, amount=sell(C, G, B, i, 'gold', amount=0, allin=True)\n",
    "                C, G, B, amount=buy(C, G, B, i, 'bitcoin', amount=0, allin=True)\n",
    "            if(rateGold>0 and rateBitcoin>0):\n",
    "                total=rateGold+rateBitcoin\n",
    "                aGold=rateGold/total\n",
    "                aBitcoin=rateBitcoin/total\n",
    "                Cgold=aGold*C\n",
    "                Cbitcoin=aBitcoin*C\n",
    "                C, G, B, amount=buy(Cgold, G, B, i, 'gold', amount=0, allin=True)\n",
    "                C, G, B, amount=buy(Cbitcoin, G, B, i, 'bitcoin', amount=0, allin=True)\n",
    "            if(rateGold<=0 and rateBitcoin<=0):\n",
    "                C, G, B, amount=sell(C, G, B, i, 'bitcoin', amount=0, allin=True)\n",
    "                C, G, B, amount=sell(C, G, B, i, 'gold', amount=0, allin=True)\n",
    "        else:\n",
    "            if(rateBitcoin>0):\n",
    "                C, G, B, amount=buy(C, G, B, i, 'bitcoin', amount=0, allin=True)\n",
    "            if(rateBitcoin<=0):\n",
    "                C, G, B, amount=sell(C, G, B, i, 'bitcoin', amount=0, allin=True)\n",
    "    C, G, B, amount=sell(C, G, B, Days-1, 'gold', amount=0, allin=True)\n",
    "    C, G, B, amount=sell(C, G, B, Days-1, 'bitcoin', amount=0, allin=True)\n",
    "    return C,G,B"
   ]
  },
  {
   "cell_type": "code",
   "execution_count": 96,
   "id": "39970217",
   "metadata": {
    "scrolled": false
   },
   "outputs": [
    {
     "name": "stderr",
     "output_type": "stream",
     "text": [
      "  0%|          | 0/1826 [00:00<?, ?it/s]"
     ]
    },
    {
     "name": "stdout",
     "output_type": "stream",
     "text": [
      "dL 24 dP 41\n"
     ]
    },
    {
     "name": "stderr",
     "output_type": "stream",
     "text": [
      "  8%|▊         | 151/1826 [00:22<04:14,  6.58it/s]"
     ]
    },
    {
     "name": "stdout",
     "output_type": "stream",
     "text": [
      "65 26\n",
      "dL 19 dP 31\n"
     ]
    },
    {
     "name": "stderr",
     "output_type": "stream",
     "text": [
      " 16%|█▋        | 301/1826 [01:05<05:50,  4.35it/s]"
     ]
    },
    {
     "name": "stdout",
     "output_type": "stream",
     "text": [
      "92 39\n",
      "dL 16 dP 24\n"
     ]
    },
    {
     "name": "stderr",
     "output_type": "stream",
     "text": [
      " 25%|██▍       | 451/1826 [02:10<07:23,  3.10it/s]"
     ]
    },
    {
     "name": "stdout",
     "output_type": "stream",
     "text": [
      "103 37\n",
      "dL 13 dP 18\n"
     ]
    },
    {
     "name": "stderr",
     "output_type": "stream",
     "text": [
      " 33%|███▎      | 601/1826 [03:09<07:07,  2.86it/s]"
     ]
    },
    {
     "name": "stdout",
     "output_type": "stream",
     "text": [
      "85 41\n",
      "dL 11 dP 15\n"
     ]
    },
    {
     "name": "stderr",
     "output_type": "stream",
     "text": [
      " 41%|████      | 751/1826 [03:59<06:10,  2.90it/s]"
     ]
    },
    {
     "name": "stdout",
     "output_type": "stream",
     "text": [
      "85 42\n",
      "dL 10 dP 12\n"
     ]
    },
    {
     "name": "stderr",
     "output_type": "stream",
     "text": [
      " 49%|████▉     | 901/1826 [04:44<05:04,  3.03it/s]"
     ]
    },
    {
     "name": "stdout",
     "output_type": "stream",
     "text": [
      "86 42\n",
      "dL 8 dP 10\n"
     ]
    },
    {
     "name": "stderr",
     "output_type": "stream",
     "text": [
      " 58%|█████▊    | 1051/1826 [05:17<03:47,  3.41it/s]"
     ]
    },
    {
     "name": "stdout",
     "output_type": "stream",
     "text": [
      "91 41\n",
      "dL 8 dP 8\n"
     ]
    },
    {
     "name": "stderr",
     "output_type": "stream",
     "text": [
      " 66%|██████▌   | 1201/1826 [05:47<02:45,  3.78it/s]"
     ]
    },
    {
     "name": "stdout",
     "output_type": "stream",
     "text": [
      "83 41\n",
      "dL 7 dP 7\n"
     ]
    },
    {
     "name": "stderr",
     "output_type": "stream",
     "text": [
      " 74%|███████▍  | 1351/1826 [06:14<01:52,  4.20it/s]"
     ]
    },
    {
     "name": "stdout",
     "output_type": "stream",
     "text": [
      "83 41\n",
      "dL 6 dP 7\n"
     ]
    },
    {
     "name": "stderr",
     "output_type": "stream",
     "text": [
      " 82%|████████▏ | 1501/1826 [06:39<01:09,  4.66it/s]"
     ]
    },
    {
     "name": "stdout",
     "output_type": "stream",
     "text": [
      "83 41\n",
      "dL 6 dP 6\n"
     ]
    },
    {
     "name": "stderr",
     "output_type": "stream",
     "text": [
      " 90%|█████████ | 1651/1826 [07:01<00:34,  5.13it/s]"
     ]
    },
    {
     "name": "stdout",
     "output_type": "stream",
     "text": [
      "83 41\n",
      "dL 6 dP 6\n"
     ]
    },
    {
     "name": "stderr",
     "output_type": "stream",
     "text": [
      "100%|██████████| 1826/1826 [07:27<00:00,  4.08it/s]"
     ]
    },
    {
     "name": "stdout",
     "output_type": "stream",
     "text": [
      "83 41\n"
     ]
    },
    {
     "name": "stderr",
     "output_type": "stream",
     "text": [
      "\n"
     ]
    },
    {
     "data": {
      "text/plain": [
       "49902.04048789947"
      ]
     },
     "execution_count": 96,
     "metadata": {},
     "output_type": "execute_result"
    }
   ],
   "source": [
    "ag=0.01\n",
    "ab=0.02\n",
    "c1,c2,c3=final_result(C=1000, B=0, G=0, Days=len(bitcoin), ag=ag, ab=ab, sellGold=0, buyGold=0, sellbitcoin=0, buybitcoin=0)\n",
    "c1"
   ]
  },
  {
   "cell_type": "code",
   "execution_count": 97,
   "id": "4982c84d",
   "metadata": {},
   "outputs": [
    {
     "data": {
      "text/plain": [
       "46009.43753240488"
      ]
     },
     "execution_count": 97,
     "metadata": {},
     "output_type": "execute_result"
    }
   ],
   "source": [
    "ag=0.01\n",
    "ab=0.02\n",
    "c1,c2,c3=result(C=1000, B=0, G=0, Days=len(bitcoin), ag=ag, ab=ab, L=40, P=70,\n",
    "                        sellGold=0, buyGold=0, sellbitcoin=0, buybitcoin=0)\n",
    "c1"
   ]
  }
 ],
 "metadata": {
  "kernelspec": {
   "display_name": "Python 3 (ipykernel)",
   "language": "python",
   "name": "python3"
  },
  "language_info": {
   "codemirror_mode": {
    "name": "ipython",
    "version": 3
   },
   "file_extension": ".py",
   "mimetype": "text/x-python",
   "name": "python",
   "nbconvert_exporter": "python",
   "pygments_lexer": "ipython3",
   "version": "3.7.9"
  }
 },
 "nbformat": 4,
 "nbformat_minor": 5
}
