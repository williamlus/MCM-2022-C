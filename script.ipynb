{
 "cells": [
  {
   "cell_type": "markdown",
   "metadata": {},
   "source": [
    "### 1. Read data from dataset"
   ]
  },
  {
   "cell_type": "code",
   "execution_count": 21,
   "metadata": {},
   "outputs": [
    {
     "name": "stdout",
     "output_type": "stream",
     "text": [
      "      Date   Value\n",
      "0  9/11/16  621.65\n",
      "1  9/12/16  609.67\n",
      "2  9/13/16  610.92\n",
      "3  9/14/16  608.82\n",
      "4  9/15/16  610.38\n",
      "      Date  USD (PM)\n",
      "0  9/12/16   1324.60\n",
      "1  9/13/16   1323.65\n",
      "2  9/14/16   1321.75\n",
      "3  9/15/16   1310.80\n",
      "4  9/16/16   1308.35\n"
     ]
    }
   ],
   "source": [
    "import pandas as pd\n",
    "bc_file,gold_file='2022_Problem_C_DATA/BCHAIN-MKPRU.csv','2022_Problem_C_DATA/LBMA-GOLD.csv'\n",
    "bc_prices=pd.read_csv(bc_file) # bitcoin prices\n",
    "gold_prices=pd.read_csv(gold_file) # gold prices\n",
    "print(bc_prices.head())\n",
    "print(gold_prices.head())"
   ]
  },
  {
   "cell_type": "code",
   "execution_count": 27,
   "metadata": {},
   "outputs": [],
   "source": [
    "from datetime import datetime\n",
    "\n",
    "def days_between(d1, d2):\n",
    "    d1 = datetime.strptime(d1, \"%m/%d/%y\")\n",
    "    d2 = datetime.strptime(d2, \"%m/%d/%y\")\n",
    "    return abs((d2 - d1).days)\n",
    "\n",
    "start_date='9/11/16'\n",
    "bc_prices_dict={days_between(start_date,r[0]):float(r[1]) for r in bc_prices.to_numpy()} # map from day t to price p_t of bitcoin\n",
    "gold_prices_dict={days_between(start_date,r[0]):float(r[1]) for r in gold_prices.to_numpy()} # map from day t to price p_t of gold\n",
    "# print(bc_prices_dict)\n",
    "# print(gold_prices_dict)"
   ]
  },
  {
   "cell_type": "markdown",
   "metadata": {},
   "source": [
    "### 2. Transaction Rule"
   ]
  },
  {
   "cell_type": "code",
   "execution_count": null,
   "metadata": {},
   "outputs": [],
   "source": [
    "C,B,G=1000,0,0 # cash, bitcoin, gold by troy ounce\n",
    "class Strategy:\n",
    "    def __init__(self,cash=1000,bc_prices=bc_prices_dict,gold_prices=gold_prices_dict):\n",
    "        self.C,self.B,self.G=cash,0,0\n",
    "        self.curr=0 # current day t from the start day\n",
    "        self.bc_prices,self.gold_prices=bc_prices,gold_prices\n",
    "    def make_transactions(self,bitcoins=0,golds=0):\n",
    "        # TODO: \n",
    "        # if bitcoins/golds is negative, then sell, otherwise, buy.\n",
    "        # Update self.C, self.B, self.G.\n",
    "        # Add self.curr by one."
   ]
  }
 ],
 "metadata": {
  "interpreter": {
   "hash": "7b9dacea585f8da3dfa2614f3919563c571a68ea739fba1d57ef7fbe74295a9c"
  },
  "kernelspec": {
   "display_name": "Python 3.8.12",
   "language": "python",
   "name": "python3"
  },
  "language_info": {
   "codemirror_mode": {
    "name": "ipython",
    "version": 3
   },
   "file_extension": ".py",
   "mimetype": "text/x-python",
   "name": "python",
   "nbconvert_exporter": "python",
   "pygments_lexer": "ipython3",
   "version": "3.8.12"
  },
  "orig_nbformat": 4
 },
 "nbformat": 4,
 "nbformat_minor": 2
}
